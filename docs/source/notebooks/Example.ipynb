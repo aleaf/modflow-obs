{
 "cells": [
  {
   "cell_type": "markdown",
   "metadata": {},
   "source": [
    "# Demo of modflow-obs\n",
    "This page demonstrates some of the core features of modflow-obs. Specifically:\n",
    "\n",
    "* creation of 'base' head and stream flow observations from time series, including\n",
    "    * in-tandem processing of observation data and MODFLOW output\n",
    "    * creation of instruction files\n",
    "* creating of derivative observations from the base observations, including\n",
    "    * sequential temporal changes in observation values at a site\n",
    "    * time series of displacement from a reference observation at a site\n",
    "    * time series of differences between observed values at two sites\n",
    "    \n",
    "    \n",
    "References:  \n",
    "[Modflow-setup package](https://github.com/aleaf/modflow-setup)  \n",
    "[Affine package](https://github.com/sgillies/affine)"
   ]
  },
  {
   "cell_type": "code",
   "execution_count": 1,
   "metadata": {
    "execution": {
     "iopub.execute_input": "2021-07-08T19:16:35.682379Z",
     "iopub.status.busy": "2021-07-08T19:16:35.681800Z",
     "iopub.status.idle": "2021-07-08T19:16:36.306552Z",
     "shell.execute_reply": "2021-07-08T19:16:36.306059Z"
    }
   },
   "outputs": [],
   "source": [
    "from pathlib import Path\n",
    "import pandas as pd\n",
    "import matplotlib.pyplot as plt\n",
    "import matplotlib.dates as mdates\n"
   ]
  },
  {
   "cell_type": "markdown",
   "metadata": {},
   "source": [
    "## Inputs\n",
    "\n",
    "Input and output paths"
   ]
  },
  {
   "cell_type": "code",
   "execution_count": 2,
   "metadata": {
    "execution": {
     "iopub.execute_input": "2021-07-08T19:16:36.310296Z",
     "iopub.status.busy": "2021-07-08T19:16:36.309875Z",
     "iopub.status.idle": "2021-07-08T19:16:36.312620Z",
     "shell.execute_reply": "2021-07-08T19:16:36.312156Z"
    }
   },
   "outputs": [],
   "source": [
    "data_path = Path('../mfobs/tests/data/shellmound/')\n",
    "\n",
    "output_folder = Path('output')\n",
    "output_folder.mkdir(exist_ok=True)  # make the output folder if it doesn't exist"
   ]
  },
  {
   "cell_type": "markdown",
   "metadata": {},
   "source": [
    "### model grid definition\n",
    "read the model grid json file created by ``modflow-setup`` and create an ``affine.Affine`` instance describing the grid orientation"
   ]
  },
  {
   "cell_type": "code",
   "execution_count": 3,
   "metadata": {
    "execution": {
     "iopub.execute_input": "2021-07-08T19:16:36.315831Z",
     "iopub.status.busy": "2021-07-08T19:16:36.315354Z",
     "iopub.status.idle": "2021-07-08T19:16:36.616334Z",
     "shell.execute_reply": "2021-07-08T19:16:36.616808Z"
    }
   },
   "outputs": [
    {
     "data": {
      "text/plain": [
       "Affine(1000.0, 0.0, 500955.0,\n",
       "       0.0, -1000.0, 1205285.0)"
      ]
     },
     "execution_count": 1,
     "metadata": {},
     "output_type": "execute_result"
    }
   ],
   "source": [
    "from mfobs.modflow import get_modelgrid_transform\n",
    "\n",
    "modelgrid_transform = get_modelgrid_transform(data_path / 'shellmound_grid.json')\n",
    "modelgrid_transform"
   ]
  },
  {
   "cell_type": "markdown",
   "metadata": {},
   "source": [
    "### model time discretization\n",
    "read table of stress period information created by ``modflow-setup``"
   ]
  },
  {
   "cell_type": "code",
   "execution_count": 4,
   "metadata": {
    "execution": {
     "iopub.execute_input": "2021-07-08T19:16:36.620824Z",
     "iopub.status.busy": "2021-07-08T19:16:36.620341Z",
     "iopub.status.idle": "2021-07-08T19:16:36.712353Z",
     "shell.execute_reply": "2021-07-08T19:16:36.712872Z"
    }
   },
   "outputs": [
    {
     "data": {
      "text/html": [
       "<div>\n",
       "<style scoped>\n",
       "    .dataframe tbody tr th:only-of-type {\n",
       "        vertical-align: middle;\n",
       "    }\n",
       "\n",
       "    .dataframe tbody tr th {\n",
       "        vertical-align: top;\n",
       "    }\n",
       "\n",
       "    .dataframe thead th {\n",
       "        text-align: right;\n",
       "    }\n",
       "</style>\n",
       "<table border=\"1\" class=\"dataframe\">\n",
       "  <thead>\n",
       "    <tr style=\"text-align: right;\">\n",
       "      <th></th>\n",
       "      <th>start_datetime</th>\n",
       "      <th>end_datetime</th>\n",
       "      <th>time</th>\n",
       "      <th>per</th>\n",
       "      <th>perlen</th>\n",
       "      <th>nstp</th>\n",
       "      <th>tsmult</th>\n",
       "      <th>steady</th>\n",
       "    </tr>\n",
       "  </thead>\n",
       "  <tbody>\n",
       "    <tr>\n",
       "      <th>0</th>\n",
       "      <td>1998-04-01</td>\n",
       "      <td>1998-04-01</td>\n",
       "      <td>1.0</td>\n",
       "      <td>0</td>\n",
       "      <td>1.0</td>\n",
       "      <td>1</td>\n",
       "      <td>1.0</td>\n",
       "      <td>True</td>\n",
       "    </tr>\n",
       "    <tr>\n",
       "      <th>1</th>\n",
       "      <td>1998-04-01</td>\n",
       "      <td>2007-03-31</td>\n",
       "      <td>3288.0</td>\n",
       "      <td>1</td>\n",
       "      <td>3287.0</td>\n",
       "      <td>10</td>\n",
       "      <td>1.5</td>\n",
       "      <td>False</td>\n",
       "    </tr>\n",
       "    <tr>\n",
       "      <th>2</th>\n",
       "      <td>2007-04-01</td>\n",
       "      <td>2007-09-30</td>\n",
       "      <td>3471.0</td>\n",
       "      <td>2</td>\n",
       "      <td>183.0</td>\n",
       "      <td>5</td>\n",
       "      <td>1.5</td>\n",
       "      <td>False</td>\n",
       "    </tr>\n",
       "    <tr>\n",
       "      <th>3</th>\n",
       "      <td>2007-10-01</td>\n",
       "      <td>2008-03-31</td>\n",
       "      <td>3654.0</td>\n",
       "      <td>3</td>\n",
       "      <td>183.0</td>\n",
       "      <td>5</td>\n",
       "      <td>1.5</td>\n",
       "      <td>False</td>\n",
       "    </tr>\n",
       "    <tr>\n",
       "      <th>4</th>\n",
       "      <td>2008-04-01</td>\n",
       "      <td>2008-09-30</td>\n",
       "      <td>3837.0</td>\n",
       "      <td>4</td>\n",
       "      <td>183.0</td>\n",
       "      <td>5</td>\n",
       "      <td>1.5</td>\n",
       "      <td>False</td>\n",
       "    </tr>\n",
       "  </tbody>\n",
       "</table>\n",
       "</div>"
      ],
      "text/plain": [
       "  start_datetime end_datetime    time  per  perlen  nstp  tsmult  steady\n",
       "0     1998-04-01   1998-04-01     1.0    0     1.0     1     1.0    True\n",
       "1     1998-04-01   2007-03-31  3288.0    1  3287.0    10     1.5   False\n",
       "2     2007-04-01   2007-09-30  3471.0    2   183.0     5     1.5   False\n",
       "3     2007-10-01   2008-03-31  3654.0    3   183.0     5     1.5   False\n",
       "4     2008-04-01   2008-09-30  3837.0    4   183.0     5     1.5   False"
      ]
     },
     "execution_count": 1,
     "metadata": {},
     "output_type": "execute_result"
    }
   ],
   "source": [
    "perioddata = pd.read_csv(data_path / 'tables/stress_period_data.csv')\n",
    "perioddata.head()"
   ]
  },
  {
   "cell_type": "markdown",
   "metadata": {},
   "source": [
    "#### alternatively, get the stress period information from the TDIS and STO files"
   ]
  },
  {
   "cell_type": "code",
   "execution_count": 5,
   "metadata": {
    "execution": {
     "iopub.execute_input": "2021-07-08T19:16:36.716337Z",
     "iopub.status.busy": "2021-07-08T19:16:36.715878Z",
     "iopub.status.idle": "2021-07-08T19:16:36.776678Z",
     "shell.execute_reply": "2021-07-08T19:16:36.777111Z"
    }
   },
   "outputs": [
    {
     "data": {
      "text/html": [
       "<div>\n",
       "<style scoped>\n",
       "    .dataframe tbody tr th:only-of-type {\n",
       "        vertical-align: middle;\n",
       "    }\n",
       "\n",
       "    .dataframe tbody tr th {\n",
       "        vertical-align: top;\n",
       "    }\n",
       "\n",
       "    .dataframe thead th {\n",
       "        text-align: right;\n",
       "    }\n",
       "</style>\n",
       "<table border=\"1\" class=\"dataframe\">\n",
       "  <thead>\n",
       "    <tr style=\"text-align: right;\">\n",
       "      <th></th>\n",
       "      <th>start_datetime</th>\n",
       "      <th>end_datetime</th>\n",
       "      <th>time</th>\n",
       "      <th>per</th>\n",
       "      <th>perlen</th>\n",
       "      <th>nstp</th>\n",
       "      <th>tsmult</th>\n",
       "      <th>steady</th>\n",
       "    </tr>\n",
       "  </thead>\n",
       "  <tbody>\n",
       "    <tr>\n",
       "      <th>0</th>\n",
       "      <td>1998-04-01</td>\n",
       "      <td>1998-04-01</td>\n",
       "      <td>1.0</td>\n",
       "      <td>0</td>\n",
       "      <td>1.0</td>\n",
       "      <td>1</td>\n",
       "      <td>1.0</td>\n",
       "      <td>True</td>\n",
       "    </tr>\n",
       "    <tr>\n",
       "      <th>1</th>\n",
       "      <td>1998-04-01</td>\n",
       "      <td>2007-03-31</td>\n",
       "      <td>3288.0</td>\n",
       "      <td>1</td>\n",
       "      <td>3287.0</td>\n",
       "      <td>10</td>\n",
       "      <td>1.5</td>\n",
       "      <td>False</td>\n",
       "    </tr>\n",
       "    <tr>\n",
       "      <th>2</th>\n",
       "      <td>2007-04-01</td>\n",
       "      <td>2007-09-30</td>\n",
       "      <td>3471.0</td>\n",
       "      <td>2</td>\n",
       "      <td>183.0</td>\n",
       "      <td>5</td>\n",
       "      <td>1.5</td>\n",
       "      <td>False</td>\n",
       "    </tr>\n",
       "    <tr>\n",
       "      <th>3</th>\n",
       "      <td>2007-10-01</td>\n",
       "      <td>2008-03-31</td>\n",
       "      <td>3654.0</td>\n",
       "      <td>3</td>\n",
       "      <td>183.0</td>\n",
       "      <td>5</td>\n",
       "      <td>1.5</td>\n",
       "      <td>False</td>\n",
       "    </tr>\n",
       "    <tr>\n",
       "      <th>4</th>\n",
       "      <td>2008-04-01</td>\n",
       "      <td>2008-09-30</td>\n",
       "      <td>3837.0</td>\n",
       "      <td>4</td>\n",
       "      <td>183.0</td>\n",
       "      <td>5</td>\n",
       "      <td>1.5</td>\n",
       "      <td>False</td>\n",
       "    </tr>\n",
       "  </tbody>\n",
       "</table>\n",
       "</div>"
      ],
      "text/plain": [
       "  start_datetime end_datetime    time  per  perlen  nstp  tsmult  steady\n",
       "0     1998-04-01   1998-04-01     1.0    0     1.0     1     1.0    True\n",
       "1     1998-04-01   2007-03-31  3288.0    1  3287.0    10     1.5   False\n",
       "2     2007-04-01   2007-09-30  3471.0    2   183.0     5     1.5   False\n",
       "3     2007-10-01   2008-03-31  3654.0    3   183.0     5     1.5   False\n",
       "4     2008-04-01   2008-09-30  3837.0    4   183.0     5     1.5   False"
      ]
     },
     "execution_count": 1,
     "metadata": {},
     "output_type": "execute_result"
    }
   ],
   "source": [
    "from mfobs.modflow import get_perioddata\n",
    "\n",
    "perioddata = get_perioddata(data_path / 'mfsim.tdis', data_path / 'shellmound.sto')\n",
    "perioddata.head()"
   ]
  },
  {
   "cell_type": "markdown",
   "metadata": {},
   "source": [
    "The above \"period_data\" table has start/end datetimes in MODFLOW time, but often we want a steady-state period to effectively represent a different time period. Define start and end dates that bracket the time period represented by steady-state period 0:"
   ]
  },
  {
   "cell_type": "code",
   "execution_count": 6,
   "metadata": {
    "execution": {
     "iopub.execute_input": "2021-07-08T19:16:36.780336Z",
     "iopub.status.busy": "2021-07-08T19:16:36.779927Z",
     "iopub.status.idle": "2021-07-08T19:16:36.782652Z",
     "shell.execute_reply": "2021-07-08T19:16:36.782197Z"
    }
   },
   "outputs": [],
   "source": [
    "steady_state_period_start = '2008-04-01'\n",
    "steady_state_period_end = '2008-9-30'"
   ]
  },
  {
   "cell_type": "markdown",
   "metadata": {},
   "source": [
    "### model property information for T-weighted averaging"
   ]
  },
  {
   "cell_type": "code",
   "execution_count": 7,
   "metadata": {
    "execution": {
     "iopub.execute_input": "2021-07-08T19:16:36.786324Z",
     "iopub.status.busy": "2021-07-08T19:16:36.785898Z",
     "iopub.status.idle": "2021-07-08T19:16:36.788326Z",
     "shell.execute_reply": "2021-07-08T19:16:36.787960Z"
    }
   },
   "outputs": [],
   "source": [
    "top_array = data_path / 'external/top.dat'\n",
    "botm_arrays = [data_path / 'external/botm{}.dat'.format(i)\n",
    "               for i in range(13)]\n",
    "hk_arrays = [data_path / 'external/k{}.dat'.format(i)\n",
    "             for i in range(13)]"
   ]
  },
  {
   "cell_type": "markdown",
   "metadata": {},
   "source": [
    "### head observation data\n",
    "We start with some head observation data that already has\n",
    "\n",
    "* been culled to model area, reprojected to model CRS, converted to model units, etc.\n",
    "* open interval information\n",
    "* `obsnme` (in the PEST parlance) prefixes identifying the sites\n",
    "* prelimary groupings based on location (optional)\n",
    "\n",
    "The observation data may or may not be broken into a data table with time series, and a metadata table with site information.\n",
    "\n",
    "The [USGS-MAP-gwmodels package](https://github.com/aleaf/usgs-map-gwmodels) is one way to create such input data from sources including the USGS National Water Information System (NWIS).\n",
    "\n",
    "The metadata (site info):"
   ]
  },
  {
   "cell_type": "code",
   "execution_count": 8,
   "metadata": {
    "execution": {
     "iopub.execute_input": "2021-07-08T19:16:36.791432Z",
     "iopub.status.busy": "2021-07-08T19:16:36.790961Z",
     "iopub.status.idle": "2021-07-08T19:16:36.830591Z",
     "shell.execute_reply": "2021-07-08T19:16:36.830146Z"
    }
   },
   "outputs": [
    {
     "data": {
      "text/html": [
       "<div>\n",
       "<style scoped>\n",
       "    .dataframe tbody tr th:only-of-type {\n",
       "        vertical-align: middle;\n",
       "    }\n",
       "\n",
       "    .dataframe tbody tr th {\n",
       "        vertical-align: top;\n",
       "    }\n",
       "\n",
       "    .dataframe thead th {\n",
       "        text-align: right;\n",
       "    }\n",
       "</style>\n",
       "<table border=\"1\" class=\"dataframe\">\n",
       "  <thead>\n",
       "    <tr style=\"text-align: right;\">\n",
       "      <th></th>\n",
       "      <th>head</th>\n",
       "      <th>head_std</th>\n",
       "      <th>last_head</th>\n",
       "      <th>n</th>\n",
       "      <th>aqfr_cd</th>\n",
       "      <th>nat_aqfr_cd</th>\n",
       "      <th>screen_botm</th>\n",
       "      <th>screen_top</th>\n",
       "      <th>well_depth</th>\n",
       "      <th>well_el</th>\n",
       "      <th>...</th>\n",
       "      <th>end_dt</th>\n",
       "      <th>site_no</th>\n",
       "      <th>x</th>\n",
       "      <th>y</th>\n",
       "      <th>well_botm</th>\n",
       "      <th>category</th>\n",
       "      <th>orig_scbot</th>\n",
       "      <th>orig_sctop</th>\n",
       "      <th>obsprefix</th>\n",
       "      <th>group</th>\n",
       "    </tr>\n",
       "  </thead>\n",
       "  <tbody>\n",
       "    <tr>\n",
       "      <th>0</th>\n",
       "      <td>32.00</td>\n",
       "      <td>NaN</td>\n",
       "      <td>32.00</td>\n",
       "      <td>1.0</td>\n",
       "      <td>112MRVA</td>\n",
       "      <td>N100MSRVVL</td>\n",
       "      <td>NaN</td>\n",
       "      <td>NaN</td>\n",
       "      <td>NaN</td>\n",
       "      <td>39.05</td>\n",
       "      <td>...</td>\n",
       "      <td>2018-10-01</td>\n",
       "      <td>USGS:333034090150501</td>\n",
       "      <td>530104.14</td>\n",
       "      <td>1176208.54</td>\n",
       "      <td>NaN</td>\n",
       "      <td>4</td>\n",
       "      <td>NaN</td>\n",
       "      <td>NaN</td>\n",
       "      <td>USGS:333034090150501</td>\n",
       "      <td>heads</td>\n",
       "    </tr>\n",
       "    <tr>\n",
       "      <th>1</th>\n",
       "      <td>26.21</td>\n",
       "      <td>NaN</td>\n",
       "      <td>26.21</td>\n",
       "      <td>1.0</td>\n",
       "      <td>112MRVA</td>\n",
       "      <td>N100MSRVVL</td>\n",
       "      <td>-3.35</td>\n",
       "      <td>14.94</td>\n",
       "      <td>136.0</td>\n",
       "      <td>38.10</td>\n",
       "      <td>...</td>\n",
       "      <td>2006-09-01</td>\n",
       "      <td>USGS:333040090200601</td>\n",
       "      <td>522383.51</td>\n",
       "      <td>1175944.23</td>\n",
       "      <td>-97.90</td>\n",
       "      <td>3</td>\n",
       "      <td>-3.35</td>\n",
       "      <td>14.94</td>\n",
       "      <td>USGS:333040090200601</td>\n",
       "      <td>heads</td>\n",
       "    </tr>\n",
       "    <tr>\n",
       "      <th>2</th>\n",
       "      <td>33.15</td>\n",
       "      <td>0.0</td>\n",
       "      <td>33.15</td>\n",
       "      <td>1.6</td>\n",
       "      <td>112MRVA</td>\n",
       "      <td>N100MSRVVL</td>\n",
       "      <td>-69.38</td>\n",
       "      <td>-57.18</td>\n",
       "      <td>109.0</td>\n",
       "      <td>39.62</td>\n",
       "      <td>...</td>\n",
       "      <td>2002-04-01</td>\n",
       "      <td>USGS:333050090153001</td>\n",
       "      <td>529954.56</td>\n",
       "      <td>1176430.50</td>\n",
       "      <td>-69.38</td>\n",
       "      <td>2</td>\n",
       "      <td>NaN</td>\n",
       "      <td>NaN</td>\n",
       "      <td>USGS:333050090153001</td>\n",
       "      <td>heads</td>\n",
       "    </tr>\n",
       "    <tr>\n",
       "      <th>3</th>\n",
       "      <td>20.73</td>\n",
       "      <td>NaN</td>\n",
       "      <td>20.73</td>\n",
       "      <td>1.0</td>\n",
       "      <td>112MRVA</td>\n",
       "      <td>N100MSRVVL</td>\n",
       "      <td>-1.52</td>\n",
       "      <td>10.67</td>\n",
       "      <td>125.0</td>\n",
       "      <td>36.58</td>\n",
       "      <td>...</td>\n",
       "      <td>2002-06-01</td>\n",
       "      <td>USGS:333113090232001</td>\n",
       "      <td>517359.53</td>\n",
       "      <td>1176671.36</td>\n",
       "      <td>-88.42</td>\n",
       "      <td>3</td>\n",
       "      <td>-1.52</td>\n",
       "      <td>10.67</td>\n",
       "      <td>USGS:333113090232001</td>\n",
       "      <td>heads</td>\n",
       "    </tr>\n",
       "    <tr>\n",
       "      <th>4</th>\n",
       "      <td>22.83</td>\n",
       "      <td>NaN</td>\n",
       "      <td>22.83</td>\n",
       "      <td>1.0</td>\n",
       "      <td>112MRVA</td>\n",
       "      <td>N100MSRVVL</td>\n",
       "      <td>NaN</td>\n",
       "      <td>NaN</td>\n",
       "      <td>NaN</td>\n",
       "      <td>37.19</td>\n",
       "      <td>...</td>\n",
       "      <td>2000-10-01</td>\n",
       "      <td>USGS:333113090244701</td>\n",
       "      <td>515142.49</td>\n",
       "      <td>1176527.26</td>\n",
       "      <td>NaN</td>\n",
       "      <td>4</td>\n",
       "      <td>NaN</td>\n",
       "      <td>NaN</td>\n",
       "      <td>USGS:333113090244701</td>\n",
       "      <td>heads</td>\n",
       "    </tr>\n",
       "  </tbody>\n",
       "</table>\n",
       "<p>5 rows × 23 columns</p>\n",
       "</div>"
      ],
      "text/plain": [
       "    head  head_std  last_head    n  aqfr_cd nat_aqfr_cd  screen_botm  \\\n",
       "0  32.00       NaN      32.00  1.0  112MRVA  N100MSRVVL          NaN   \n",
       "1  26.21       NaN      26.21  1.0  112MRVA  N100MSRVVL        -3.35   \n",
       "2  33.15       0.0      33.15  1.6  112MRVA  N100MSRVVL       -69.38   \n",
       "3  20.73       NaN      20.73  1.0  112MRVA  N100MSRVVL        -1.52   \n",
       "4  22.83       NaN      22.83  1.0  112MRVA  N100MSRVVL          NaN   \n",
       "\n",
       "   screen_top  well_depth  well_el  ...      end_dt               site_no  \\\n",
       "0         NaN         NaN    39.05  ...  2018-10-01  USGS:333034090150501   \n",
       "1       14.94       136.0    38.10  ...  2006-09-01  USGS:333040090200601   \n",
       "2      -57.18       109.0    39.62  ...  2002-04-01  USGS:333050090153001   \n",
       "3       10.67       125.0    36.58  ...  2002-06-01  USGS:333113090232001   \n",
       "4         NaN         NaN    37.19  ...  2000-10-01  USGS:333113090244701   \n",
       "\n",
       "           x           y well_botm  category  orig_scbot  orig_sctop  \\\n",
       "0  530104.14  1176208.54       NaN         4         NaN         NaN   \n",
       "1  522383.51  1175944.23    -97.90         3       -3.35       14.94   \n",
       "2  529954.56  1176430.50    -69.38         2         NaN         NaN   \n",
       "3  517359.53  1176671.36    -88.42         3       -1.52       10.67   \n",
       "4  515142.49  1176527.26       NaN         4         NaN         NaN   \n",
       "\n",
       "              obsprefix  group  \n",
       "0  USGS:333034090150501  heads  \n",
       "1  USGS:333040090200601  heads  \n",
       "2  USGS:333050090153001  heads  \n",
       "3  USGS:333113090232001  heads  \n",
       "4  USGS:333113090244701  heads  \n",
       "\n",
       "[5 rows x 23 columns]"
      ]
     },
     "execution_count": 1,
     "metadata": {},
     "output_type": "execute_result"
    }
   ],
   "source": [
    "head_obs_info = pd.read_csv(data_path / 'tables/preprocessed_head_obs_info.csv')\n",
    "head_obs_info.head()"
   ]
  },
  {
   "cell_type": "markdown",
   "metadata": {},
   "source": [
    "Time series of head at the locations in the metadata:"
   ]
  },
  {
   "cell_type": "code",
   "execution_count": 9,
   "metadata": {
    "execution": {
     "iopub.execute_input": "2021-07-08T19:16:36.834007Z",
     "iopub.status.busy": "2021-07-08T19:16:36.833532Z",
     "iopub.status.idle": "2021-07-08T19:16:36.860637Z",
     "shell.execute_reply": "2021-07-08T19:16:36.860201Z"
    }
   },
   "outputs": [
    {
     "data": {
      "text/html": [
       "<div>\n",
       "<style scoped>\n",
       "    .dataframe tbody tr th:only-of-type {\n",
       "        vertical-align: middle;\n",
       "    }\n",
       "\n",
       "    .dataframe tbody tr th {\n",
       "        vertical-align: top;\n",
       "    }\n",
       "\n",
       "    .dataframe thead th {\n",
       "        text-align: right;\n",
       "    }\n",
       "</style>\n",
       "<table border=\"1\" class=\"dataframe\">\n",
       "  <thead>\n",
       "    <tr style=\"text-align: right;\">\n",
       "      <th></th>\n",
       "      <th>site_no</th>\n",
       "      <th>datetime</th>\n",
       "      <th>head</th>\n",
       "      <th>last_head</th>\n",
       "      <th>head_std</th>\n",
       "      <th>n</th>\n",
       "      <th>obsprefix</th>\n",
       "    </tr>\n",
       "  </thead>\n",
       "  <tbody>\n",
       "    <tr>\n",
       "      <th>0</th>\n",
       "      <td>USGS:333034090150501</td>\n",
       "      <td>1999-04-01</td>\n",
       "      <td>32.37</td>\n",
       "      <td>32.37</td>\n",
       "      <td>NaN</td>\n",
       "      <td>1</td>\n",
       "      <td>USGS:333034090150501</td>\n",
       "    </tr>\n",
       "    <tr>\n",
       "      <th>1</th>\n",
       "      <td>USGS:333034090150501</td>\n",
       "      <td>2000-10-01</td>\n",
       "      <td>31.54</td>\n",
       "      <td>31.54</td>\n",
       "      <td>NaN</td>\n",
       "      <td>1</td>\n",
       "      <td>USGS:333034090150501</td>\n",
       "    </tr>\n",
       "    <tr>\n",
       "      <th>2</th>\n",
       "      <td>USGS:333034090150501</td>\n",
       "      <td>2001-04-01</td>\n",
       "      <td>32.60</td>\n",
       "      <td>32.60</td>\n",
       "      <td>NaN</td>\n",
       "      <td>1</td>\n",
       "      <td>USGS:333034090150501</td>\n",
       "    </tr>\n",
       "    <tr>\n",
       "      <th>3</th>\n",
       "      <td>USGS:333034090150501</td>\n",
       "      <td>2001-10-01</td>\n",
       "      <td>31.96</td>\n",
       "      <td>31.96</td>\n",
       "      <td>NaN</td>\n",
       "      <td>1</td>\n",
       "      <td>USGS:333034090150501</td>\n",
       "    </tr>\n",
       "    <tr>\n",
       "      <th>4</th>\n",
       "      <td>USGS:333034090150501</td>\n",
       "      <td>2002-04-01</td>\n",
       "      <td>33.35</td>\n",
       "      <td>33.35</td>\n",
       "      <td>NaN</td>\n",
       "      <td>1</td>\n",
       "      <td>USGS:333034090150501</td>\n",
       "    </tr>\n",
       "  </tbody>\n",
       "</table>\n",
       "</div>"
      ],
      "text/plain": [
       "                site_no    datetime   head  last_head  head_std  n  \\\n",
       "0  USGS:333034090150501  1999-04-01  32.37      32.37       NaN  1   \n",
       "1  USGS:333034090150501  2000-10-01  31.54      31.54       NaN  1   \n",
       "2  USGS:333034090150501  2001-04-01  32.60      32.60       NaN  1   \n",
       "3  USGS:333034090150501  2001-10-01  31.96      31.96       NaN  1   \n",
       "4  USGS:333034090150501  2002-04-01  33.35      33.35       NaN  1   \n",
       "\n",
       "              obsprefix  \n",
       "0  USGS:333034090150501  \n",
       "1  USGS:333034090150501  \n",
       "2  USGS:333034090150501  \n",
       "3  USGS:333034090150501  \n",
       "4  USGS:333034090150501  "
      ]
     },
     "execution_count": 1,
     "metadata": {},
     "output_type": "execute_result"
    }
   ],
   "source": [
    "head_obs = pd.read_csv(data_path / 'tables/preprocessed_head_obs.csv')\n",
    "head_obs.head()"
   ]
  },
  {
   "cell_type": "markdown",
   "metadata": {},
   "source": [
    "### streamflow observations\n",
    "Flux observation inputs are similar to heads, except the metadata aren't needed\n",
    "\n",
    "* only a site number, datetime, and values column are required\n",
    "* Note: site numbers are handled as strings. Site numbers with leading zeros (such as those for many USGS gages) must be specified as strings when read by pandas, otherwise they will be cast to integers by default, and not match the MODFLOW observation names"
   ]
  },
  {
   "cell_type": "code",
   "execution_count": 10,
   "metadata": {
    "execution": {
     "iopub.execute_input": "2021-07-08T19:16:36.864172Z",
     "iopub.status.busy": "2021-07-08T19:16:36.863711Z",
     "iopub.status.idle": "2021-07-08T19:16:36.884400Z",
     "shell.execute_reply": "2021-07-08T19:16:36.883886Z"
    }
   },
   "outputs": [
    {
     "data": {
      "text/html": [
       "<div>\n",
       "<style scoped>\n",
       "    .dataframe tbody tr th:only-of-type {\n",
       "        vertical-align: middle;\n",
       "    }\n",
       "\n",
       "    .dataframe tbody tr th {\n",
       "        vertical-align: top;\n",
       "    }\n",
       "\n",
       "    .dataframe thead th {\n",
       "        text-align: right;\n",
       "    }\n",
       "</style>\n",
       "<table border=\"1\" class=\"dataframe\">\n",
       "  <thead>\n",
       "    <tr style=\"text-align: right;\">\n",
       "      <th></th>\n",
       "      <th>site_no</th>\n",
       "      <th>datetime</th>\n",
       "      <th>category</th>\n",
       "      <th>est_qtotal_m3d</th>\n",
       "      <th>est_qbase_m3d</th>\n",
       "      <th>meas_qtotal_m3d</th>\n",
       "      <th>meas_qbase_m3d</th>\n",
       "      <th>obsval</th>\n",
       "    </tr>\n",
       "  </thead>\n",
       "  <tbody>\n",
       "    <tr>\n",
       "      <th>0</th>\n",
       "      <td>07281600</td>\n",
       "      <td>2008-01-01</td>\n",
       "      <td>measured</td>\n",
       "      <td>NaN</td>\n",
       "      <td>NaN</td>\n",
       "      <td>10215000.0</td>\n",
       "      <td>6403120.0</td>\n",
       "      <td>6403120.0</td>\n",
       "    </tr>\n",
       "    <tr>\n",
       "      <th>1</th>\n",
       "      <td>07281600</td>\n",
       "      <td>2008-02-01</td>\n",
       "      <td>measured</td>\n",
       "      <td>NaN</td>\n",
       "      <td>NaN</td>\n",
       "      <td>15611700.0</td>\n",
       "      <td>5332650.0</td>\n",
       "      <td>5332650.0</td>\n",
       "    </tr>\n",
       "    <tr>\n",
       "      <th>2</th>\n",
       "      <td>07281600</td>\n",
       "      <td>2008-03-01</td>\n",
       "      <td>measured</td>\n",
       "      <td>NaN</td>\n",
       "      <td>NaN</td>\n",
       "      <td>20682200.0</td>\n",
       "      <td>15022400.0</td>\n",
       "      <td>15022400.0</td>\n",
       "    </tr>\n",
       "    <tr>\n",
       "      <th>3</th>\n",
       "      <td>07281600</td>\n",
       "      <td>2008-04-01</td>\n",
       "      <td>measured</td>\n",
       "      <td>NaN</td>\n",
       "      <td>NaN</td>\n",
       "      <td>24353200.0</td>\n",
       "      <td>12339100.0</td>\n",
       "      <td>12339100.0</td>\n",
       "    </tr>\n",
       "    <tr>\n",
       "      <th>4</th>\n",
       "      <td>07281600</td>\n",
       "      <td>2008-05-01</td>\n",
       "      <td>measured</td>\n",
       "      <td>NaN</td>\n",
       "      <td>NaN</td>\n",
       "      <td>22076000.0</td>\n",
       "      <td>13931500.0</td>\n",
       "      <td>13931500.0</td>\n",
       "    </tr>\n",
       "  </tbody>\n",
       "</table>\n",
       "</div>"
      ],
      "text/plain": [
       "    site_no    datetime  category  est_qtotal_m3d  est_qbase_m3d  \\\n",
       "0  07281600  2008-01-01  measured             NaN            NaN   \n",
       "1  07281600  2008-02-01  measured             NaN            NaN   \n",
       "2  07281600  2008-03-01  measured             NaN            NaN   \n",
       "3  07281600  2008-04-01  measured             NaN            NaN   \n",
       "4  07281600  2008-05-01  measured             NaN            NaN   \n",
       "\n",
       "   meas_qtotal_m3d  meas_qbase_m3d      obsval  \n",
       "0       10215000.0       6403120.0   6403120.0  \n",
       "1       15611700.0       5332650.0   5332650.0  \n",
       "2       20682200.0      15022400.0  15022400.0  \n",
       "3       24353200.0      12339100.0  12339100.0  \n",
       "4       22076000.0      13931500.0  13931500.0  "
      ]
     },
     "execution_count": 1,
     "metadata": {},
     "output_type": "execute_result"
    }
   ],
   "source": [
    "flux_obs = pd.read_csv(data_path / 'tables/processed_flow_obs.csv', dtype={'site_no': object})\n",
    "flux_obs.head()"
   ]
  },
  {
   "cell_type": "markdown",
   "metadata": {},
   "source": [
    "### MODFLOW-6 observation input\n",
    "\n",
    "* the MODFLOW observation names (representing sites) must match those in the ``obsprefix`` column of the preprocessed head data above\n",
    "* a key feature of **Modflow-obs** is computation of simulated heads from transmissivity-weighted averages of the head values simulated for the layers that intersect each well open interval. To take advantage of this feature, for each location (site), a MODFLOW observation must be entered for each layer.\n",
    "* [Modflow-setup](https://github.com/aleaf/modflow-setup) can create MODFLOW-6 observation input (with an observation in each layer) automatically, using the locations and ``obsprefixes`` in the above metadata file"
   ]
  },
  {
   "cell_type": "code",
   "execution_count": 11,
   "metadata": {
    "execution": {
     "iopub.execute_input": "2021-07-08T19:16:36.887935Z",
     "iopub.status.busy": "2021-07-08T19:16:36.887433Z",
     "iopub.status.idle": "2021-07-08T19:16:36.893777Z",
     "shell.execute_reply": "2021-07-08T19:16:36.893296Z"
    }
   },
   "outputs": [
    {
     "name": "stdout",
     "output_type": "stream",
     "text": [
      "BEGIN options\n",
      "  DIGITS  10\n",
      "  PRINT_INPUT\n",
      "END options\n",
      "\n",
      "BEGIN continuous  FILEOUT  shellmound.head.obs\n",
      "  usgs:333145090261901  HEAD  1 28 12\n",
      "  usgs:333145090261901  HEAD  2 28 12\n",
      "  usgs:333145090261901  HEAD  3 28 12\n",
      "  usgs:333145090261901  HEAD  4 28 12\n",
      "  usgs:333145090261901  HEAD  5 28 12\n",
      "  usgs:333145090261901  HEAD  6 28 12\n",
      "  usgs:333145090261901  HEAD  7 28 12\n",
      "  usgs:333145090261901  HEAD  8 28 12\n",
      "  usgs:333145090261901  HEAD  9 28 12\n",
      "  usgs:333145090261901  HEAD  10 28 12\n",
      "  usgs:33314509026\n"
     ]
    }
   ],
   "source": [
    "headobs_input_file = data_path / 'shellmound.obs'\n",
    "\n",
    "with open(headobs_input_file) as src:\n",
    "    print(src.read()[:500])"
   ]
  },
  {
   "cell_type": "markdown",
   "metadata": {},
   "source": [
    "* **flux observation in input** to MODFLOW is not needed by modflow-obs because there aren't layers to sort out, but like head observations, the site identifiers supplied to MODFLOW must match those in the observation data file above"
   ]
  },
  {
   "cell_type": "markdown",
   "metadata": {},
   "source": [
    "### MODFLOW-6 observation output\n",
    "* simulated values at observation locations are returned in a csv file with model timesteps along the row axis, and individual observation locations (1 per layer) along the column axis"
   ]
  },
  {
   "cell_type": "code",
   "execution_count": 12,
   "metadata": {
    "execution": {
     "iopub.execute_input": "2021-07-08T19:16:36.897506Z",
     "iopub.status.busy": "2021-07-08T19:16:36.897053Z",
     "iopub.status.idle": "2021-07-08T19:16:36.913843Z",
     "shell.execute_reply": "2021-07-08T19:16:36.913442Z"
    }
   },
   "outputs": [
    {
     "name": "stdout",
     "output_type": "stream",
     "text": [
      "time,USGS:333145090261901,USGS:333145090261901,USGS:333145090261901,USGS:333145090261901,USGS:333145\n",
      "1.000000000000,29.61748720,29.62154020,29.62504962,29.62677031,29.62761331,29.62882679,29.63409325,2\n"
     ]
    }
   ],
   "source": [
    "headobs_output_file = data_path / 'shellmound.head.obs'\n",
    "with open(headobs_output_file) as src:\n",
    "    print('\\n'.join([l[:100] for l in src.readlines()[:2]]))"
   ]
  },
  {
   "cell_type": "markdown",
   "metadata": {},
   "source": [
    "* SFR package observations are similar"
   ]
  },
  {
   "cell_type": "code",
   "execution_count": 13,
   "metadata": {
    "execution": {
     "iopub.execute_input": "2021-07-08T19:16:36.917363Z",
     "iopub.status.busy": "2021-07-08T19:16:36.916944Z",
     "iopub.status.idle": "2021-07-08T19:16:36.953366Z",
     "shell.execute_reply": "2021-07-08T19:16:36.952770Z"
    }
   },
   "outputs": [
    {
     "name": "stdout",
     "output_type": "stream",
     "text": [
      "time,07288280,07288580,07288500,07281600\n",
      "1,0,-1805.6,0,-8.203e+06\n",
      "30.0038,0,-901.46,0,-8.2845e+06\n",
      "73.5094,0,0,0,-8.2622e+06\n",
      "\n"
     ]
    }
   ],
   "source": [
    "fluxobs_output_file = data_path / 'shellmound.sfr.obs.output.csv'\n",
    "\n",
    "with open(fluxobs_output_file) as src:\n",
    "    print(''.join([l for l in src.readlines()[:4]]))"
   ]
  },
  {
   "cell_type": "markdown",
   "metadata": {},
   "source": [
    "## Create a base set of head observations\n",
    "\n",
    "* reads head observation data and model output and matches values\n",
    "    * by location using the ``obsprefix`` names\n",
    "    * in time by averaging observed values to the model stress period\n",
    "    * optionally, a model stress period can be labeled as steady-state (``label_period_as_steady_state``), representing average conditions over a time period bracked by a ``steady_state_period_start`` and ``steady_state_period_end``. In this case, the simulated values for the labeled stress period are matched to average values for the steady-state time period.\n",
    "* the model output are assumed to include all layers at each observation location; observation names in the model output are assumed to correspond to ``obsprefix``es in the head observation data\n",
    "* observation layer can be specified explicitly via an ``observed_values_layer_col`` in the head observation data, or, the simulated values can be averaged vertically with transmissivity-based weighting (``observed_values_layer_col=None``). In the latter case, model property arrays (``hk_arrays``, ``top_array``, ``botm_arrays``) must be supplied. At observation sites without open interval information, all model layers are included in the transmissivity-weighted averaging.\n",
    "* observation names to match observed values to their simulated equivalents are constructed in the format of ``<obsprefix>_<date suffix>``, where obsprefix is a site identifier taken from the ``observed_values_site_id_col`` in ``observed_values_file``, and the date suffix is controlled by the ``obsnme_date_suffix_format`` parameter (default of ``'%Y%m'``). Steady-state observations are assigned a suffix of ``'ss'``.\n",
    "* simulated and observed values are written to columns formatted with ``sim_`` or ``obs_<variable_name>``"
   ]
  },
  {
   "cell_type": "code",
   "execution_count": 14,
   "metadata": {
    "execution": {
     "iopub.execute_input": "2021-07-08T19:16:37.001890Z",
     "iopub.status.busy": "2021-07-08T19:16:37.001390Z",
     "iopub.status.idle": "2021-07-08T19:16:37.984688Z",
     "shell.execute_reply": "2021-07-08T19:16:37.984163Z"
    }
   },
   "outputs": [
    {
     "name": "stdout",
     "output_type": "stream",
     "text": [
      "reading model output from ../mfobs/tests/data/shellmound/shellmound.head.obs...\n",
      "Dropping 191 sites with no information\n"
     ]
    },
    {
     "name": "stderr",
     "output_type": "stream",
     "text": [
      "/Users/aleaf/Documents/GitHub/modflow-obs/mfobs/heads.py:381: UserWarning: Stress period 8: No observations between start and end dates of 2010-04-01 and 2010-09-30!\n",
      "  warnings.warn(('Stress period {}: No observations between start and '\n"
     ]
    },
    {
     "name": "stdout",
     "output_type": "stream",
     "text": [
      "wrote 581 observations to output/processed_head_obs.dat\n",
      "wrote 581 observation instructions to output/processed_head_obs.dat.ins\n"
     ]
    },
    {
     "data": {
      "text/html": [
       "<div>\n",
       "<style scoped>\n",
       "    .dataframe tbody tr th:only-of-type {\n",
       "        vertical-align: middle;\n",
       "    }\n",
       "\n",
       "    .dataframe tbody tr th {\n",
       "        vertical-align: top;\n",
       "    }\n",
       "\n",
       "    .dataframe thead th {\n",
       "        text-align: right;\n",
       "    }\n",
       "</style>\n",
       "<table border=\"1\" class=\"dataframe\">\n",
       "  <thead>\n",
       "    <tr style=\"text-align: right;\">\n",
       "      <th></th>\n",
       "      <th>datetime</th>\n",
       "      <th>per</th>\n",
       "      <th>obsprefix</th>\n",
       "      <th>obsnme</th>\n",
       "      <th>obs_head</th>\n",
       "      <th>sim_head</th>\n",
       "      <th>n</th>\n",
       "      <th>screen_top</th>\n",
       "      <th>screen_botm</th>\n",
       "      <th>obsval</th>\n",
       "      <th>obgnme</th>\n",
       "    </tr>\n",
       "    <tr>\n",
       "      <th>obsnme</th>\n",
       "      <th></th>\n",
       "      <th></th>\n",
       "      <th></th>\n",
       "      <th></th>\n",
       "      <th></th>\n",
       "      <th></th>\n",
       "      <th></th>\n",
       "      <th></th>\n",
       "      <th></th>\n",
       "      <th></th>\n",
       "      <th></th>\n",
       "    </tr>\n",
       "  </thead>\n",
       "  <tbody>\n",
       "    <tr>\n",
       "      <th>usgs:333145090261901_201409</th>\n",
       "      <td>2014-09-30</td>\n",
       "      <td>16</td>\n",
       "      <td>usgs:333145090261901</td>\n",
       "      <td>usgs:333145090261901_201409</td>\n",
       "      <td>20.906667</td>\n",
       "      <td>28.948277</td>\n",
       "      <td>27</td>\n",
       "      <td>-16.01</td>\n",
       "      <td>-28.20</td>\n",
       "      <td>20.906667</td>\n",
       "      <td>head</td>\n",
       "    </tr>\n",
       "    <tr>\n",
       "      <th>usgs:333145090261901_201503</th>\n",
       "      <td>2015-03-31</td>\n",
       "      <td>17</td>\n",
       "      <td>usgs:333145090261901</td>\n",
       "      <td>usgs:333145090261901_201503</td>\n",
       "      <td>20.985000</td>\n",
       "      <td>29.139451</td>\n",
       "      <td>181</td>\n",
       "      <td>-16.01</td>\n",
       "      <td>-28.20</td>\n",
       "      <td>20.985000</td>\n",
       "      <td>head</td>\n",
       "    </tr>\n",
       "    <tr>\n",
       "      <th>usgs:333145090261901_201509</th>\n",
       "      <td>2015-09-30</td>\n",
       "      <td>18</td>\n",
       "      <td>usgs:333145090261901</td>\n",
       "      <td>usgs:333145090261901_201509</td>\n",
       "      <td>21.060000</td>\n",
       "      <td>29.057794</td>\n",
       "      <td>181</td>\n",
       "      <td>-16.01</td>\n",
       "      <td>-28.20</td>\n",
       "      <td>21.060000</td>\n",
       "      <td>head</td>\n",
       "    </tr>\n",
       "    <tr>\n",
       "      <th>usgs:333218090271101_ss</th>\n",
       "      <td>2008-09-30</td>\n",
       "      <td>0</td>\n",
       "      <td>usgs:333218090271101</td>\n",
       "      <td>usgs:333218090271101_ss</td>\n",
       "      <td>19.320000</td>\n",
       "      <td>30.279858</td>\n",
       "      <td>2</td>\n",
       "      <td>-102.15</td>\n",
       "      <td>-114.34</td>\n",
       "      <td>19.320000</td>\n",
       "      <td>head</td>\n",
       "    </tr>\n",
       "    <tr>\n",
       "      <th>usgs:333218090271101_200703</th>\n",
       "      <td>2007-03-31</td>\n",
       "      <td>1</td>\n",
       "      <td>usgs:333218090271101</td>\n",
       "      <td>usgs:333218090271101_200703</td>\n",
       "      <td>20.111250</td>\n",
       "      <td>28.161395</td>\n",
       "      <td>8</td>\n",
       "      <td>-102.15</td>\n",
       "      <td>-114.34</td>\n",
       "      <td>20.111250</td>\n",
       "      <td>head</td>\n",
       "    </tr>\n",
       "  </tbody>\n",
       "</table>\n",
       "</div>"
      ],
      "text/plain": [
       "                              datetime  per             obsprefix  \\\n",
       "obsnme                                                              \n",
       "usgs:333145090261901_201409 2014-09-30   16  usgs:333145090261901   \n",
       "usgs:333145090261901_201503 2015-03-31   17  usgs:333145090261901   \n",
       "usgs:333145090261901_201509 2015-09-30   18  usgs:333145090261901   \n",
       "usgs:333218090271101_ss     2008-09-30    0  usgs:333218090271101   \n",
       "usgs:333218090271101_200703 2007-03-31    1  usgs:333218090271101   \n",
       "\n",
       "                                                  obsnme   obs_head  \\\n",
       "obsnme                                                                \n",
       "usgs:333145090261901_201409  usgs:333145090261901_201409  20.906667   \n",
       "usgs:333145090261901_201503  usgs:333145090261901_201503  20.985000   \n",
       "usgs:333145090261901_201509  usgs:333145090261901_201509  21.060000   \n",
       "usgs:333218090271101_ss          usgs:333218090271101_ss  19.320000   \n",
       "usgs:333218090271101_200703  usgs:333218090271101_200703  20.111250   \n",
       "\n",
       "                              sim_head    n  screen_top  screen_botm  \\\n",
       "obsnme                                                                 \n",
       "usgs:333145090261901_201409  28.948277   27      -16.01       -28.20   \n",
       "usgs:333145090261901_201503  29.139451  181      -16.01       -28.20   \n",
       "usgs:333145090261901_201509  29.057794  181      -16.01       -28.20   \n",
       "usgs:333218090271101_ss      30.279858    2     -102.15      -114.34   \n",
       "usgs:333218090271101_200703  28.161395    8     -102.15      -114.34   \n",
       "\n",
       "                                obsval obgnme  \n",
       "obsnme                                         \n",
       "usgs:333145090261901_201409  20.906667   head  \n",
       "usgs:333145090261901_201503  20.985000   head  \n",
       "usgs:333145090261901_201509  21.060000   head  \n",
       "usgs:333218090271101_ss      19.320000   head  \n",
       "usgs:333218090271101_200703  20.111250   head  "
      ]
     },
     "execution_count": 1,
     "metadata": {},
     "output_type": "execute_result"
    }
   ],
   "source": [
    "from mfobs.heads import get_head_obs\n",
    "\n",
    "base_obs = get_head_obs(perioddata,\n",
    "                        modelgrid_transform=modelgrid_transform,\n",
    "                        model_output_file=headobs_output_file,\n",
    "                        observed_values_file=head_obs,\n",
    "                        observed_values_metadata_file=head_obs_info,\n",
    "                        observed_values_obsval_col='head',\n",
    "                        gwf_obs_input_file=headobs_input_file,\n",
    "                        hk_arrays=hk_arrays,\n",
    "                        top_array=top_array,\n",
    "                        botm_arrays=botm_arrays,\n",
    "                        label_period_as_steady_state=0,\n",
    "                        steady_state_period_start=steady_state_period_start,\n",
    "                        steady_state_period_end=steady_state_period_end,\n",
    "                        write_ins=True, \n",
    "                        outfile=output_folder / 'processed_head_obs.dat'\n",
    "                        )\n",
    "base_obs.head()"
   ]
  },
  {
   "cell_type": "markdown",
   "metadata": {},
   "source": [
    "### PEST instruction files\n",
    "Can be written in tandem with the processed observation output (``write_ins=True``). This way, \n",
    "\n",
    "* observation processing functions like ``get_head_obs`` can be used initially to get an instruction file and a set of observed values for making a PEST control file\n",
    "* and subsequently for processing model output during a PEST run, that can then be read by PEST via the instruciton file"
   ]
  },
  {
   "cell_type": "code",
   "execution_count": 15,
   "metadata": {
    "execution": {
     "iopub.execute_input": "2021-07-08T19:16:37.988367Z",
     "iopub.status.busy": "2021-07-08T19:16:37.987856Z",
     "iopub.status.idle": "2021-07-08T19:16:37.991148Z",
     "shell.execute_reply": "2021-07-08T19:16:37.991491Z"
    }
   },
   "outputs": [
    {
     "name": "stdout",
     "output_type": "stream",
     "text": [
      "pif @\n",
      "@obsnme@\n",
      "l1 w w w w w !usgs:333145090261901_201409! w w w w w\n",
      "l1 w w w w w !usgs:333145090261901_201503! w w w w w\n",
      "\n"
     ]
    }
   ],
   "source": [
    "with open('output/processed_head_obs.dat.ins') as src:\n",
    "    print(''.join([l for l in src.readlines()[:4]]))"
   ]
  },
  {
   "cell_type": "markdown",
   "metadata": {},
   "source": [
    "### plot base data for a site"
   ]
  },
  {
   "cell_type": "code",
   "execution_count": 16,
   "metadata": {
    "execution": {
     "iopub.execute_input": "2021-07-08T19:16:37.997942Z",
     "iopub.status.busy": "2021-07-08T19:16:37.997451Z",
     "iopub.status.idle": "2021-07-08T19:16:38.848717Z",
     "shell.execute_reply": "2021-07-08T19:16:38.848273Z"
    }
   },
   "outputs": [
    {
     "data": {
      "image/png": "[encoded data removed]",
      "text/plain": [
       "<Figure size 432x288 with 1 Axes>"
      ]
     },
     "metadata": {
      "needs_background": "light"
     },
     "output_type": "display_data"
    }
   ],
   "source": [
    "site = 'usgs:334420090140101'\n",
    "site_values = base_obs.loc[base_obs.obsprefix == site, ['datetime', 'obs_head', 'sim_head', 'obsnme']].copy()\n",
    "site_values.index = site_values.datetime\n",
    "ax = site_values[['obs_head', 'sim_head']].plot(marker='o')\n",
    "ax.set_title(site)\n",
    "ax.set_ylabel('Head, in meters above sea level')\n",
    "ax.grid()"
   ]
  },
  {
   "cell_type": "markdown",
   "metadata": {},
   "source": [
    "## Changes in head through time\n",
    "The base values returned by ``get_head_obs`` can be processed further into temporal head differences: \n",
    "\n",
    "* similar to ``get_head_obs`` the ``get_temporal_differences`` function can also write an instruction file in tandem\n",
    "* by default, sequential differences are computed by subtracting the previous time from the current,\n",
    "    so a positive value indicates an increase.\n",
    "* Sequential difference observations can help inform PEST about seasonal trends in the observation data."
   ]
  },
  {
   "cell_type": "code",
   "execution_count": 17,
   "metadata": {
    "execution": {
     "iopub.execute_input": "2021-07-08T19:16:38.958580Z",
     "iopub.status.busy": "2021-07-08T19:16:38.927826Z",
     "iopub.status.idle": "2021-07-08T19:16:39.231608Z",
     "shell.execute_reply": "2021-07-08T19:16:39.232275Z"
    }
   },
   "outputs": [
    {
     "name": "stdout",
     "output_type": "stream",
     "text": [
      "wrote 499 observations to output/processed_head_obs_tdiffs.dat\n",
      "wrote 499 observation instructions to output/processed_head_obs_tdiffs.dat.ins\n"
     ]
    }
   ],
   "source": [
    "from mfobs.obs import get_temporal_differences\n",
    "\n",
    "thead_diffs = get_temporal_differences(base_obs,\n",
    "                                       perioddata,\n",
    "                                       obs_values_col='obs_head',\n",
    "                                       sim_values_col='sim_head',\n",
    "                                       obstype='head',\n",
    "                                       write_ins=True,\n",
    "                                       outfile=output_folder / 'processed_head_obs_tdiffs.dat')"
   ]
  },
  {
   "cell_type": "markdown",
   "metadata": {},
   "source": [
    "### plot temporal head differences for a site"
   ]
  },
  {
   "cell_type": "code",
   "execution_count": 18,
   "metadata": {
    "execution": {
     "iopub.execute_input": "2021-07-08T19:16:39.290844Z",
     "iopub.status.busy": "2021-07-08T19:16:39.262428Z",
     "iopub.status.idle": "2021-07-08T19:16:39.444965Z",
     "shell.execute_reply": "2021-07-08T19:16:39.445411Z"
    }
   },
   "outputs": [
    {
     "data": {
      "image/png": "[encoded data removed]",
      "text/plain": [
       "<Figure size 432x288 with 1 Axes>"
      ]
     },
     "metadata": {
      "needs_background": "light"
     },
     "output_type": "display_data"
    }
   ],
   "source": [
    "site = 'usgs:334420090140101'\n",
    "site_values = thead_diffs.loc[thead_diffs.obsprefix == site, ['datetime', 'obsval', 'sim_obsval', 'obsnme']].copy()\n",
    "site_values.index = site_values.datetime\n",
    "ax = site_values[['obsval', 'sim_obsval']].plot(marker='o')\n",
    "ax.set_title(site)\n",
    "ax.set_ylabel('Head change, in meters')\n",
    "ax.grid()"
   ]
  },
  {
   "cell_type": "markdown",
   "metadata": {},
   "source": [
    "## Displacement in head through time\n",
    "The ``get_temporal_differences`` function can also be used to compute displacement (total change) from a reference time, via the ``get_displacement`` flag. \n",
    "* Displacements are computed at sites with 2 or more observations. \n",
    "* The reference time is specified by the ``displacement_from`` argument. \n",
    "    * The first observation at each site that occurs on or after the reference time is then used as the datum in computing the displacements. \n",
    "    * If no reference time is specified, the first observation is used as the datum for each site.\n",
    "* Displacement observations can help inform PEST about longer-term temporal trends in the observation data."
   ]
  },
  {
   "cell_type": "code",
   "execution_count": 19,
   "metadata": {
    "execution": {
     "iopub.execute_input": "2021-07-08T19:16:39.459776Z",
     "iopub.status.busy": "2021-07-08T19:16:39.455421Z",
     "iopub.status.idle": "2021-07-08T19:16:39.921452Z",
     "shell.execute_reply": "2021-07-08T19:16:39.921012Z"
    }
   },
   "outputs": [
    {
     "name": "stderr",
     "output_type": "stream",
     "text": [
      "/Users/aleaf/opt/anaconda3/envs/gis/lib/python3.8/site-packages/pandas/core/indexing.py:1636: SettingWithCopyWarning: \n",
      "A value is trying to be set on a copy of a slice from a DataFrame\n",
      "\n",
      "See the caveats in the documentation: https://pandas.pydata.org/pandas-docs/stable/user_guide/indexing.html#returning-a-view-versus-a-copy\n",
      "  self._setitem_single_block(indexer, value, name)\n"
     ]
    },
    {
     "name": "stdout",
     "output_type": "stream",
     "text": [
      "wrote 292 observations to output/processed_head_obs_disp.dat\n",
      "wrote 292 observation instructions to output/processed_head_obs_disp.dat.ins\n"
     ]
    }
   ],
   "source": [
    "thead_disp = get_temporal_differences(base_obs,\n",
    "                                       perioddata,\n",
    "                                       obs_values_col='obs_head',\n",
    "                                       sim_values_col='sim_head',\n",
    "                                       obstype='head',\n",
    "                                       get_displacements=True,\n",
    "                                       displacement_from='2010-01-01',\n",
    "                                       write_ins=True,\n",
    "                                       outfile=output_folder / 'processed_head_obs_disp.dat')"
   ]
  },
  {
   "cell_type": "markdown",
   "metadata": {},
   "source": [
    "### Plot the displacement observations\n",
    "Note: the datum observation (where displacement is zero) is excluded."
   ]
  },
  {
   "cell_type": "code",
   "execution_count": 20,
   "metadata": {
    "execution": {
     "iopub.execute_input": "2021-07-08T19:16:39.965636Z",
     "iopub.status.busy": "2021-07-08T19:16:39.949300Z",
     "iopub.status.idle": "2021-07-08T19:16:40.106845Z",
     "shell.execute_reply": "2021-07-08T19:16:40.106262Z"
    }
   },
   "outputs": [
    {
     "data": {
      "image/png": "[encoded data removed]",
      "text/plain": [
       "<Figure size 432x288 with 1 Axes>"
      ]
     },
     "metadata": {
      "needs_background": "light"
     },
     "output_type": "display_data"
    }
   ],
   "source": [
    "site = 'usgs:334420090140101'\n",
    "site_values = thead_disp.loc[thead_disp.obsprefix == site, ['datetime', 'obsval', 'sim_obsval', 'obsnme']].copy()\n",
    "\n",
    "# for some reason, pd.DataFrame.plot() incorrectly shifts the xticks in this case\n",
    "fig, ax = plt.subplots()\n",
    "ax.plot(site_values.datetime, site_values.obsval, marker='o')\n",
    "ax.plot(site_values.datetime, site_values.sim_obsval, marker='o')\n",
    "ax.set_title(site)\n",
    "ax.set_ylabel('Head change, in meters')\n",
    "fig.autofmt_xdate()\n",
    "ax.grid()"
   ]
  },
  {
   "cell_type": "markdown",
   "metadata": {},
   "source": [
    "## Head differences between sites\n",
    "\n",
    "Similarly, the base values returned by ``get_head_obs`` can also be processed into spatial head differences. \n",
    "These may represent nested wells, well-lake differences or simply two nearby wells that represent an important\n",
    "head gradient.\n",
    "\n",
    "* similar to ``get_head_obs`` the ``get_spatial_differences`` function can also write an instruction file in tandem"
   ]
  },
  {
   "cell_type": "code",
   "execution_count": 21,
   "metadata": {
    "execution": {
     "iopub.execute_input": "2021-07-08T19:16:40.114020Z",
     "iopub.status.busy": "2021-07-08T19:16:40.113530Z",
     "iopub.status.idle": "2021-07-08T19:16:40.182720Z",
     "shell.execute_reply": "2021-07-08T19:16:40.182231Z"
    }
   },
   "outputs": [
    {
     "name": "stdout",
     "output_type": "stream",
     "text": [
      "wrote 3 observations to output/processed_head_obs_sdiffs.dat\n",
      "wrote 3 observation instructions to output/processed_head_obs_sdiffs.dat.ins\n"
     ]
    }
   ],
   "source": [
    "from mfobs.obs import get_spatial_differences\n",
    "\n",
    "head_difference_sites = {'usgs:333904090123801':  # well in money, ms\n",
    "                         'usgs:333145090261901'  # well approx. 15 mi southwest in cone of depression\n",
    "                             }\n",
    "\n",
    "shead_diffs = get_spatial_differences(base_obs,\n",
    "                                      perioddata,\n",
    "                                      difference_sites=head_difference_sites,\n",
    "                                      obs_values_col='obs_head',\n",
    "                                      sim_values_col='sim_head',\n",
    "                                      obstype='head',\n",
    "                                      write_ins=True,\n",
    "                                      outfile=output_folder / 'processed_head_obs_sdiffs.dat')"
   ]
  },
  {
   "cell_type": "code",
   "execution_count": 22,
   "metadata": {
    "execution": {
     "iopub.execute_input": "2021-07-08T19:16:40.206559Z",
     "iopub.status.busy": "2021-07-08T19:16:40.206057Z",
     "iopub.status.idle": "2021-07-08T19:16:40.209450Z",
     "shell.execute_reply": "2021-07-08T19:16:40.208994Z"
    }
   },
   "outputs": [
    {
     "data": {
      "text/html": [
       "<div>\n",
       "<style scoped>\n",
       "    .dataframe tbody tr th:only-of-type {\n",
       "        vertical-align: middle;\n",
       "    }\n",
       "\n",
       "    .dataframe tbody tr th {\n",
       "        vertical-align: top;\n",
       "    }\n",
       "\n",
       "    .dataframe thead th {\n",
       "        text-align: right;\n",
       "    }\n",
       "</style>\n",
       "<table border=\"1\" class=\"dataframe\">\n",
       "  <thead>\n",
       "    <tr style=\"text-align: right;\">\n",
       "      <th></th>\n",
       "      <th>datetime</th>\n",
       "      <th>per</th>\n",
       "      <th>obsprefix</th>\n",
       "      <th>obsnme1</th>\n",
       "      <th>obs_head1</th>\n",
       "      <th>sim_head1</th>\n",
       "      <th>screen_top1</th>\n",
       "      <th>screen_botm1</th>\n",
       "      <th>obsnme2</th>\n",
       "      <th>obs_head2</th>\n",
       "      <th>...</th>\n",
       "      <th>obs_diff</th>\n",
       "      <th>sim_diff</th>\n",
       "      <th>dz</th>\n",
       "      <th>obs_grad</th>\n",
       "      <th>sim_grad</th>\n",
       "      <th>obgnme</th>\n",
       "      <th>obsnme</th>\n",
       "      <th>obsval</th>\n",
       "      <th>sim_obsval</th>\n",
       "      <th>type</th>\n",
       "    </tr>\n",
       "    <tr>\n",
       "      <th>per</th>\n",
       "      <th></th>\n",
       "      <th></th>\n",
       "      <th></th>\n",
       "      <th></th>\n",
       "      <th></th>\n",
       "      <th></th>\n",
       "      <th></th>\n",
       "      <th></th>\n",
       "      <th></th>\n",
       "      <th></th>\n",
       "      <th></th>\n",
       "      <th></th>\n",
       "      <th></th>\n",
       "      <th></th>\n",
       "      <th></th>\n",
       "      <th></th>\n",
       "      <th></th>\n",
       "      <th></th>\n",
       "      <th></th>\n",
       "      <th></th>\n",
       "      <th></th>\n",
       "    </tr>\n",
       "  </thead>\n",
       "  <tbody>\n",
       "    <tr>\n",
       "      <th>16</th>\n",
       "      <td>2014-09-30</td>\n",
       "      <td>16</td>\n",
       "      <td>usgs:333904090123801-d-usgs:333145090261901</td>\n",
       "      <td>usgs:333904090123801_201409</td>\n",
       "      <td>35.163333</td>\n",
       "      <td>40.340913</td>\n",
       "      <td>23.15</td>\n",
       "      <td>10.96</td>\n",
       "      <td>usgs:333145090261901_201409</td>\n",
       "      <td>20.906667</td>\n",
       "      <td>...</td>\n",
       "      <td>14.256667</td>\n",
       "      <td>11.392636</td>\n",
       "      <td>39.16</td>\n",
       "      <td>0.364062</td>\n",
       "      <td>0.290925</td>\n",
       "      <td>head_sdiff</td>\n",
       "      <td>usgs:333904090123801-d-usgs:333145090261901_20...</td>\n",
       "      <td>14.256667</td>\n",
       "      <td>11.392636</td>\n",
       "      <td>spatial head difference</td>\n",
       "    </tr>\n",
       "    <tr>\n",
       "      <th>17</th>\n",
       "      <td>2015-03-31</td>\n",
       "      <td>17</td>\n",
       "      <td>usgs:333904090123801-d-usgs:333145090261901</td>\n",
       "      <td>usgs:333904090123801_201503</td>\n",
       "      <td>35.258333</td>\n",
       "      <td>41.410755</td>\n",
       "      <td>23.15</td>\n",
       "      <td>10.96</td>\n",
       "      <td>usgs:333145090261901_201503</td>\n",
       "      <td>20.985000</td>\n",
       "      <td>...</td>\n",
       "      <td>14.273333</td>\n",
       "      <td>12.271304</td>\n",
       "      <td>39.16</td>\n",
       "      <td>0.364488</td>\n",
       "      <td>0.313363</td>\n",
       "      <td>head_sdiff</td>\n",
       "      <td>usgs:333904090123801-d-usgs:333145090261901_20...</td>\n",
       "      <td>14.273333</td>\n",
       "      <td>12.271304</td>\n",
       "      <td>spatial head difference</td>\n",
       "    </tr>\n",
       "    <tr>\n",
       "      <th>18</th>\n",
       "      <td>2015-09-30</td>\n",
       "      <td>18</td>\n",
       "      <td>usgs:333904090123801-d-usgs:333145090261901</td>\n",
       "      <td>usgs:333904090123801_201509</td>\n",
       "      <td>35.358333</td>\n",
       "      <td>40.785719</td>\n",
       "      <td>23.15</td>\n",
       "      <td>10.96</td>\n",
       "      <td>usgs:333145090261901_201509</td>\n",
       "      <td>21.060000</td>\n",
       "      <td>...</td>\n",
       "      <td>14.298333</td>\n",
       "      <td>11.727924</td>\n",
       "      <td>39.16</td>\n",
       "      <td>0.365126</td>\n",
       "      <td>0.299487</td>\n",
       "      <td>head_sdiff</td>\n",
       "      <td>usgs:333904090123801-d-usgs:333145090261901_20...</td>\n",
       "      <td>14.298333</td>\n",
       "      <td>11.727924</td>\n",
       "      <td>spatial head difference</td>\n",
       "    </tr>\n",
       "  </tbody>\n",
       "</table>\n",
       "<p>3 rows × 23 columns</p>\n",
       "</div>"
      ],
      "text/plain": [
       "      datetime  per                                    obsprefix  \\\n",
       "per                                                                \n",
       "16  2014-09-30   16  usgs:333904090123801-d-usgs:333145090261901   \n",
       "17  2015-03-31   17  usgs:333904090123801-d-usgs:333145090261901   \n",
       "18  2015-09-30   18  usgs:333904090123801-d-usgs:333145090261901   \n",
       "\n",
       "                         obsnme1  obs_head1  sim_head1  screen_top1  \\\n",
       "per                                                                   \n",
       "16   usgs:333904090123801_201409  35.163333  40.340913        23.15   \n",
       "17   usgs:333904090123801_201503  35.258333  41.410755        23.15   \n",
       "18   usgs:333904090123801_201509  35.358333  40.785719        23.15   \n",
       "\n",
       "     screen_botm1                      obsnme2  obs_head2  ...   obs_diff  \\\n",
       "per                                                        ...              \n",
       "16          10.96  usgs:333145090261901_201409  20.906667  ...  14.256667   \n",
       "17          10.96  usgs:333145090261901_201503  20.985000  ...  14.273333   \n",
       "18          10.96  usgs:333145090261901_201509  21.060000  ...  14.298333   \n",
       "\n",
       "      sim_diff     dz  obs_grad  sim_grad      obgnme  \\\n",
       "per                                                     \n",
       "16   11.392636  39.16  0.364062  0.290925  head_sdiff   \n",
       "17   12.271304  39.16  0.364488  0.313363  head_sdiff   \n",
       "18   11.727924  39.16  0.365126  0.299487  head_sdiff   \n",
       "\n",
       "                                                obsnme     obsval sim_obsval  \\\n",
       "per                                                                            \n",
       "16   usgs:333904090123801-d-usgs:333145090261901_20...  14.256667  11.392636   \n",
       "17   usgs:333904090123801-d-usgs:333145090261901_20...  14.273333  12.271304   \n",
       "18   usgs:333904090123801-d-usgs:333145090261901_20...  14.298333  11.727924   \n",
       "\n",
       "                        type  \n",
       "per                           \n",
       "16   spatial head difference  \n",
       "17   spatial head difference  \n",
       "18   spatial head difference  \n",
       "\n",
       "[3 rows x 23 columns]"
      ]
     },
     "execution_count": 1,
     "metadata": {},
     "output_type": "execute_result"
    }
   ],
   "source": [
    "shead_diffs.head()"
   ]
  },
  {
   "cell_type": "code",
   "execution_count": 23,
   "metadata": {
    "execution": {
     "iopub.execute_input": "2021-07-08T19:16:40.235364Z",
     "iopub.status.busy": "2021-07-08T19:16:40.234808Z",
     "iopub.status.idle": "2021-07-08T19:16:40.379300Z",
     "shell.execute_reply": "2021-07-08T19:16:40.379733Z"
    }
   },
   "outputs": [
    {
     "data": {
      "text/plain": [
       "Text(0, 0.5, 'Head difference, in meters')"
      ]
     },
     "execution_count": 1,
     "metadata": {},
     "output_type": "execute_result"
    },
    {
     "data": {
      "image/png": "[encoded data removed]",
      "text/plain": [
       "<Figure size 432x288 with 1 Axes>"
      ]
     },
     "metadata": {
      "needs_background": "light"
     },
     "output_type": "display_data"
    }
   ],
   "source": [
    "site = shead_diffs.obsprefix.values[0]\n",
    "site_values = shead_diffs.loc[shead_diffs.obsprefix == site, ['datetime', 'obsval', 'sim_obsval', 'obsnme']].copy()\n",
    "site_values.index = site_values.datetime\n",
    "ax = site_values[['obsval', 'sim_obsval']].plot()\n",
    "ax.set_title(site)\n",
    "ax.set_ylabel('Head difference, in meters')"
   ]
  },
  {
   "cell_type": "markdown",
   "metadata": {},
   "source": [
    "## Create a base set of flux observations\n",
    "\n",
    "* similar to head observations, the first step in flux observation processing is to create a set of base observations\n",
    "* observation data and model output are read and matched\n",
    "    * by location using the ``obsprefix`` names\n",
    "    * in time by averaging observed values to the model stress period\n",
    "    * optionally, a model stress period can be labeled as steady-state (``label_period_as_steady_state``), representing average conditions over a time period bracked by a ``steady_state_period_start`` and ``steady_state_period_end``. In this case, the simulated values for the labeled stress period are matched to average values for the steady-state time period.\n",
    "* observation names to match observed values to their simulated equivalents are constructed in the format of ``<obsprefix>_<date suffix>``, where obsprefix is a site identifier taken from the ``observed_values_site_id_col`` in ``observed_values_file``, and the date suffix is controlled by the ``obsnme_date_suffix_format`` parameter (default of ``'%Y%m'``). Steady-state observations are assigned a suffix of ``'ss'``.\n",
    "* simulated and observed values are written to columns formatted with ``sim_`` or ``obs_<variable_name>``"
   ]
  },
  {
   "cell_type": "code",
   "execution_count": 24,
   "metadata": {
    "execution": {
     "iopub.execute_input": "2021-07-08T19:16:40.386520Z",
     "iopub.status.busy": "2021-07-08T19:16:40.386060Z",
     "iopub.status.idle": "2021-07-08T19:16:40.763256Z",
     "shell.execute_reply": "2021-07-08T19:16:40.762775Z"
    }
   },
   "outputs": [
    {
     "name": "stdout",
     "output_type": "stream",
     "text": [
      "reading model output from ../mfobs/tests/data/shellmound/shellmound.sfr.obs.output.csv...\n",
      "Dropping 1 sites with no information\n",
      "wrote 53 observations to output/processed_flux_obs.dat\n",
      "wrote 53 observation instructions to output/processed_flux_obs.dat.ins\n"
     ]
    },
    {
     "data": {
      "text/html": [
       "<div>\n",
       "<style scoped>\n",
       "    .dataframe tbody tr th:only-of-type {\n",
       "        vertical-align: middle;\n",
       "    }\n",
       "\n",
       "    .dataframe tbody tr th {\n",
       "        vertical-align: top;\n",
       "    }\n",
       "\n",
       "    .dataframe thead th {\n",
       "        text-align: right;\n",
       "    }\n",
       "</style>\n",
       "<table border=\"1\" class=\"dataframe\">\n",
       "  <thead>\n",
       "    <tr style=\"text-align: right;\">\n",
       "      <th></th>\n",
       "      <th>datetime</th>\n",
       "      <th>per</th>\n",
       "      <th>obsprefix</th>\n",
       "      <th>obsnme</th>\n",
       "      <th>obs_flux</th>\n",
       "      <th>sim_flux</th>\n",
       "      <th>obsval</th>\n",
       "      <th>obgnme</th>\n",
       "    </tr>\n",
       "    <tr>\n",
       "      <th>obsnme</th>\n",
       "      <th></th>\n",
       "      <th></th>\n",
       "      <th></th>\n",
       "      <th></th>\n",
       "      <th></th>\n",
       "      <th></th>\n",
       "      <th></th>\n",
       "      <th></th>\n",
       "    </tr>\n",
       "  </thead>\n",
       "  <tbody>\n",
       "    <tr>\n",
       "      <th>07281600_ss</th>\n",
       "      <td>2008-09-30</td>\n",
       "      <td>0</td>\n",
       "      <td>07281600</td>\n",
       "      <td>07281600_ss</td>\n",
       "      <td>1.349688e+07</td>\n",
       "      <td>8203000.0</td>\n",
       "      <td>1.349688e+07</td>\n",
       "      <td>flux</td>\n",
       "    </tr>\n",
       "    <tr>\n",
       "      <th>07281600_200803</th>\n",
       "      <td>2008-03-31</td>\n",
       "      <td>3</td>\n",
       "      <td>07281600</td>\n",
       "      <td>07281600_200803</td>\n",
       "      <td>8.919390e+06</td>\n",
       "      <td>7155800.0</td>\n",
       "      <td>8.919390e+06</td>\n",
       "      <td>flux</td>\n",
       "    </tr>\n",
       "    <tr>\n",
       "      <th>07281600_200809</th>\n",
       "      <td>2008-09-30</td>\n",
       "      <td>4</td>\n",
       "      <td>07281600</td>\n",
       "      <td>07281600_200809</td>\n",
       "      <td>1.349688e+07</td>\n",
       "      <td>6290400.0</td>\n",
       "      <td>1.349688e+07</td>\n",
       "      <td>flux</td>\n",
       "    </tr>\n",
       "    <tr>\n",
       "      <th>07281600_200903</th>\n",
       "      <td>2009-03-31</td>\n",
       "      <td>5</td>\n",
       "      <td>07281600</td>\n",
       "      <td>07281600_200903</td>\n",
       "      <td>1.547445e+07</td>\n",
       "      <td>6740000.0</td>\n",
       "      <td>1.547445e+07</td>\n",
       "      <td>flux</td>\n",
       "    </tr>\n",
       "    <tr>\n",
       "      <th>07281600_200909</th>\n",
       "      <td>2009-09-30</td>\n",
       "      <td>6</td>\n",
       "      <td>07281600</td>\n",
       "      <td>07281600_200909</td>\n",
       "      <td>1.365627e+07</td>\n",
       "      <td>7182900.0</td>\n",
       "      <td>1.365627e+07</td>\n",
       "      <td>flux</td>\n",
       "    </tr>\n",
       "  </tbody>\n",
       "</table>\n",
       "</div>"
      ],
      "text/plain": [
       "                  datetime  per obsprefix           obsnme      obs_flux  \\\n",
       "obsnme                                                                     \n",
       "07281600_ss     2008-09-30    0  07281600      07281600_ss  1.349688e+07   \n",
       "07281600_200803 2008-03-31    3  07281600  07281600_200803  8.919390e+06   \n",
       "07281600_200809 2008-09-30    4  07281600  07281600_200809  1.349688e+07   \n",
       "07281600_200903 2009-03-31    5  07281600  07281600_200903  1.547445e+07   \n",
       "07281600_200909 2009-09-30    6  07281600  07281600_200909  1.365627e+07   \n",
       "\n",
       "                  sim_flux        obsval obgnme  \n",
       "obsnme                                           \n",
       "07281600_ss      8203000.0  1.349688e+07   flux  \n",
       "07281600_200803  7155800.0  8.919390e+06   flux  \n",
       "07281600_200809  6290400.0  1.349688e+07   flux  \n",
       "07281600_200903  6740000.0  1.547445e+07   flux  \n",
       "07281600_200909  7182900.0  1.365627e+07   flux  "
      ]
     },
     "execution_count": 1,
     "metadata": {},
     "output_type": "execute_result"
    }
   ],
   "source": [
    "from mfobs.swflows import get_flux_obs\n",
    "\n",
    "base_flux_obs = get_flux_obs(perioddata,\n",
    "                             model_output_file=fluxobs_output_file,\n",
    "                             observed_values_file=flux_obs,\n",
    "                             observed_values_site_id_col='site_no',\n",
    "                             observed_values_datetime_col='datetime',\n",
    "                             observed_values_obsval_col='obsval',\n",
    "                             label_period_as_steady_state=0,\n",
    "                             steady_state_period_start=steady_state_period_start,\n",
    "                             steady_state_period_end=steady_state_period_end,\n",
    "                             write_ins=True, \n",
    "                             outfile=output_folder / 'processed_flux_obs.dat'\n",
    "                             )\n",
    "base_flux_obs.head()"
   ]
  },
  {
   "cell_type": "code",
   "execution_count": 25,
   "metadata": {
    "execution": {
     "iopub.execute_input": "2021-07-08T19:16:40.767129Z",
     "iopub.status.busy": "2021-07-08T19:16:40.766569Z",
     "iopub.status.idle": "2021-07-08T19:16:40.770242Z",
     "shell.execute_reply": "2021-07-08T19:16:40.769763Z"
    }
   },
   "outputs": [
    {
     "data": {
      "text/plain": [
       "array(['07281600', '07288280', '07288500'], dtype=object)"
      ]
     },
     "execution_count": 1,
     "metadata": {},
     "output_type": "execute_result"
    }
   ],
   "source": [
    "base_flux_obs.obsprefix.unique()"
   ]
  },
  {
   "cell_type": "code",
   "execution_count": 26,
   "metadata": {
    "execution": {
     "iopub.execute_input": "2021-07-08T19:16:40.815459Z",
     "iopub.status.busy": "2021-07-08T19:16:40.814998Z",
     "iopub.status.idle": "2021-07-08T19:16:41.202793Z",
     "shell.execute_reply": "2021-07-08T19:16:41.202353Z"
    }
   },
   "outputs": [
    {
     "data": {
      "text/plain": [
       "Text(0, 0.5, 'Base flow, in $m^3/d$')"
      ]
     },
     "execution_count": 1,
     "metadata": {},
     "output_type": "execute_result"
    },
    {
     "data": {
      "image/png": "[encoded data removed]",
      "text/plain": [
       "<Figure size 432x288 with 1 Axes>"
      ]
     },
     "metadata": {
      "needs_background": "light"
     },
     "output_type": "display_data"
    }
   ],
   "source": [
    "site = '07281600'\n",
    "site_values = base_flux_obs.loc[base_flux_obs.obsprefix == site, ['datetime', 'obs_flux', 'sim_flux', 'obsnme']].copy()\n",
    "site_values.index = site_values.datetime\n",
    "ax = site_values[['obs_flux', 'sim_flux']].plot()\n",
    "ax.set_title(site)\n",
    "ax.set_ylabel('Base flow, in $m^3/d$')"
   ]
  },
  {
   "cell_type": "markdown",
   "metadata": {},
   "source": [
    "## Changes in streamflow through time\n",
    "Similar to heads, the ``get_temporal_differences`` function can be used to create observations of the changes in streamflow through time at each site.\n",
    "\n",
    "* Differences are computed by subtracting the previous time from the current,\n",
    "    so a positive value indicates an increase."
   ]
  },
  {
   "cell_type": "code",
   "execution_count": 27,
   "metadata": {
    "execution": {
     "iopub.execute_input": "2021-07-08T19:16:41.239006Z",
     "iopub.status.busy": "2021-07-08T19:16:41.238517Z",
     "iopub.status.idle": "2021-07-08T19:16:41.289715Z",
     "shell.execute_reply": "2021-07-08T19:16:41.289127Z"
    }
   },
   "outputs": [
    {
     "name": "stdout",
     "output_type": "stream",
     "text": [
      "wrote 47 observations to output/processed_flux_obs_tdiffs.dat\n",
      "wrote 47 observation instructions to output/processed_flux_obs_tdiffs.dat.ins\n"
     ]
    }
   ],
   "source": [
    "flux_tdiff = get_temporal_differences(base_flux_obs,\n",
    "                                      perioddata,\n",
    "                                      obs_values_col='obs_flux',\n",
    "                                      sim_values_col='sim_flux',\n",
    "                                      obstype='flux',\n",
    "                                      write_ins=True,\n",
    "                                      outfile=output_folder / 'processed_flux_obs_tdiffs.dat')"
   ]
  },
  {
   "cell_type": "code",
   "execution_count": 28,
   "metadata": {
    "execution": {
     "iopub.execute_input": "2021-07-08T19:16:41.302885Z",
     "iopub.status.busy": "2021-07-08T19:16:41.302240Z",
     "iopub.status.idle": "2021-07-08T19:16:41.306036Z",
     "shell.execute_reply": "2021-07-08T19:16:41.305584Z"
    }
   },
   "outputs": [
    {
     "data": {
      "text/html": [
       "<div>\n",
       "<style scoped>\n",
       "    .dataframe tbody tr th:only-of-type {\n",
       "        vertical-align: middle;\n",
       "    }\n",
       "\n",
       "    .dataframe tbody tr th {\n",
       "        vertical-align: top;\n",
       "    }\n",
       "\n",
       "    .dataframe thead th {\n",
       "        text-align: right;\n",
       "    }\n",
       "</style>\n",
       "<table border=\"1\" class=\"dataframe\">\n",
       "  <thead>\n",
       "    <tr style=\"text-align: right;\">\n",
       "      <th></th>\n",
       "      <th>datetime</th>\n",
       "      <th>per</th>\n",
       "      <th>obsprefix</th>\n",
       "      <th>obsnme</th>\n",
       "      <th>obs_flux</th>\n",
       "      <th>sim_flux</th>\n",
       "      <th>obsval</th>\n",
       "      <th>sim_obsval</th>\n",
       "      <th>obgnme</th>\n",
       "      <th>type</th>\n",
       "    </tr>\n",
       "  </thead>\n",
       "  <tbody>\n",
       "    <tr>\n",
       "      <th>1</th>\n",
       "      <td>2008-09-30</td>\n",
       "      <td>4</td>\n",
       "      <td>07281600</td>\n",
       "      <td>07281600_200809d200803</td>\n",
       "      <td>1.349688e+07</td>\n",
       "      <td>6290400.0</td>\n",
       "      <td>4.577493e+06</td>\n",
       "      <td>-865400.0</td>\n",
       "      <td>flux_tdiff</td>\n",
       "      <td>temporal flux difference</td>\n",
       "    </tr>\n",
       "    <tr>\n",
       "      <th>2</th>\n",
       "      <td>2009-03-31</td>\n",
       "      <td>5</td>\n",
       "      <td>07281600</td>\n",
       "      <td>07281600_200903d200809</td>\n",
       "      <td>1.547445e+07</td>\n",
       "      <td>6740000.0</td>\n",
       "      <td>1.977567e+06</td>\n",
       "      <td>449600.0</td>\n",
       "      <td>flux_tdiff</td>\n",
       "      <td>temporal flux difference</td>\n",
       "    </tr>\n",
       "    <tr>\n",
       "      <th>3</th>\n",
       "      <td>2009-09-30</td>\n",
       "      <td>6</td>\n",
       "      <td>07281600</td>\n",
       "      <td>07281600_200909d200903</td>\n",
       "      <td>1.365627e+07</td>\n",
       "      <td>7182900.0</td>\n",
       "      <td>-1.818178e+06</td>\n",
       "      <td>442900.0</td>\n",
       "      <td>flux_tdiff</td>\n",
       "      <td>temporal flux difference</td>\n",
       "    </tr>\n",
       "    <tr>\n",
       "      <th>4</th>\n",
       "      <td>2010-03-31</td>\n",
       "      <td>7</td>\n",
       "      <td>07281600</td>\n",
       "      <td>07281600_201003d200909</td>\n",
       "      <td>3.217932e+07</td>\n",
       "      <td>7544900.0</td>\n",
       "      <td>1.852304e+07</td>\n",
       "      <td>362000.0</td>\n",
       "      <td>flux_tdiff</td>\n",
       "      <td>temporal flux difference</td>\n",
       "    </tr>\n",
       "    <tr>\n",
       "      <th>5</th>\n",
       "      <td>2010-09-30</td>\n",
       "      <td>8</td>\n",
       "      <td>07281600</td>\n",
       "      <td>07281600_201009d201003</td>\n",
       "      <td>1.156270e+07</td>\n",
       "      <td>6223100.0</td>\n",
       "      <td>-2.061661e+07</td>\n",
       "      <td>-1321800.0</td>\n",
       "      <td>flux_tdiff</td>\n",
       "      <td>temporal flux difference</td>\n",
       "    </tr>\n",
       "  </tbody>\n",
       "</table>\n",
       "</div>"
      ],
      "text/plain": [
       "    datetime  per obsprefix                  obsnme      obs_flux   sim_flux  \\\n",
       "1 2008-09-30    4  07281600  07281600_200809d200803  1.349688e+07  6290400.0   \n",
       "2 2009-03-31    5  07281600  07281600_200903d200809  1.547445e+07  6740000.0   \n",
       "3 2009-09-30    6  07281600  07281600_200909d200903  1.365627e+07  7182900.0   \n",
       "4 2010-03-31    7  07281600  07281600_201003d200909  3.217932e+07  7544900.0   \n",
       "5 2010-09-30    8  07281600  07281600_201009d201003  1.156270e+07  6223100.0   \n",
       "\n",
       "         obsval  sim_obsval      obgnme                      type  \n",
       "1  4.577493e+06   -865400.0  flux_tdiff  temporal flux difference  \n",
       "2  1.977567e+06    449600.0  flux_tdiff  temporal flux difference  \n",
       "3 -1.818178e+06    442900.0  flux_tdiff  temporal flux difference  \n",
       "4  1.852304e+07    362000.0  flux_tdiff  temporal flux difference  \n",
       "5 -2.061661e+07  -1321800.0  flux_tdiff  temporal flux difference  "
      ]
     },
     "execution_count": 1,
     "metadata": {},
     "output_type": "execute_result"
    }
   ],
   "source": [
    "flux_tdiff.head()"
   ]
  },
  {
   "cell_type": "code",
   "execution_count": 29,
   "metadata": {
    "execution": {
     "iopub.execute_input": "2021-07-08T19:16:41.358370Z",
     "iopub.status.busy": "2021-07-08T19:16:41.357921Z",
     "iopub.status.idle": "2021-07-08T19:16:41.567457Z",
     "shell.execute_reply": "2021-07-08T19:16:41.567797Z"
    }
   },
   "outputs": [
    {
     "data": {
      "text/plain": [
       "Text(0, 0.5, 'Change in streamflow, $m^3/d$')"
      ]
     },
     "execution_count": 1,
     "metadata": {},
     "output_type": "execute_result"
    },
    {
     "data": {
      "image/png": "[encoded data removed]",
      "text/plain": [
       "<Figure size 432x288 with 1 Axes>"
      ]
     },
     "metadata": {
      "needs_background": "light"
     },
     "output_type": "display_data"
    }
   ],
   "source": [
    "flux_tdiff.index = flux_tdiff.datetime\n",
    "site = '07281600'\n",
    "site_data = flux_tdiff.loc[flux_tdiff.obsprefix == site].copy()\n",
    "ax = site_data[['obsval', 'sim_obsval']].plot()\n",
    "ax.set_ylabel('Change in streamflow, $m^3/d$')"
   ]
  },
  {
   "cell_type": "markdown",
   "metadata": {},
   "source": [
    "## Change in streamflow between two sites\n",
    "Similar to heads, the ``get_spatial_differences`` function can be used to difference stream flows between sites to create observations of stream flow gain or loss.\n",
    "\n",
    "* Differences are computed by subtracting the values site(s) from the key site, so for example, to represent a gain in streamflow as positive, the downstream site should be key site."
   ]
  },
  {
   "cell_type": "code",
   "execution_count": 30,
   "metadata": {
    "execution": {
     "iopub.execute_input": "2021-07-08T19:16:41.590862Z",
     "iopub.status.busy": "2021-07-08T19:16:41.590401Z",
     "iopub.status.idle": "2021-07-08T19:16:41.640366Z",
     "shell.execute_reply": "2021-07-08T19:16:41.640945Z"
    }
   },
   "outputs": [
    {
     "name": "stdout",
     "output_type": "stream",
     "text": [
      "wrote 17 observations to output/processed_flux_obs_sdiffs.dat\n",
      "wrote 17 observation instructions to output/processed_flux_obs_sdiffs.dat.ins\n"
     ]
    }
   ],
   "source": [
    "flux_difference_sites = {'07288500':   # sunflower r. at sunflower\n",
    "                         '07288280'  # sunflower r. at merigold\n",
    "                         }\n",
    "\n",
    "flux_sdiff = get_spatial_differences(base_flux_obs, perioddata,\n",
    "                                     flux_difference_sites,\n",
    "                                     obs_values_col='obs_flux',\n",
    "                                     sim_values_col='sim_flux',\n",
    "                                     obstype='flux',\n",
    "                                     write_ins=True,\n",
    "                                     outfile=output_folder / 'processed_flux_obs_sdiffs.dat')"
   ]
  },
  {
   "cell_type": "code",
   "execution_count": 31,
   "metadata": {
    "execution": {
     "iopub.execute_input": "2021-07-08T19:16:41.659304Z",
     "iopub.status.busy": "2021-07-08T19:16:41.658751Z",
     "iopub.status.idle": "2021-07-08T19:16:41.662410Z",
     "shell.execute_reply": "2021-07-08T19:16:41.661928Z"
    }
   },
   "outputs": [
    {
     "data": {
      "text/html": [
       "<div>\n",
       "<style scoped>\n",
       "    .dataframe tbody tr th:only-of-type {\n",
       "        vertical-align: middle;\n",
       "    }\n",
       "\n",
       "    .dataframe tbody tr th {\n",
       "        vertical-align: top;\n",
       "    }\n",
       "\n",
       "    .dataframe thead th {\n",
       "        text-align: right;\n",
       "    }\n",
       "</style>\n",
       "<table border=\"1\" class=\"dataframe\">\n",
       "  <thead>\n",
       "    <tr style=\"text-align: right;\">\n",
       "      <th></th>\n",
       "      <th>datetime</th>\n",
       "      <th>per</th>\n",
       "      <th>obsprefix</th>\n",
       "      <th>obsnme1</th>\n",
       "      <th>obs_flux1</th>\n",
       "      <th>sim_flux1</th>\n",
       "      <th>obsnme2</th>\n",
       "      <th>obs_flux2</th>\n",
       "      <th>sim_flux2</th>\n",
       "      <th>obs_diff</th>\n",
       "      <th>sim_diff</th>\n",
       "      <th>obgnme</th>\n",
       "      <th>obsnme</th>\n",
       "      <th>obsval</th>\n",
       "      <th>sim_obsval</th>\n",
       "      <th>type</th>\n",
       "    </tr>\n",
       "    <tr>\n",
       "      <th>per</th>\n",
       "      <th></th>\n",
       "      <th></th>\n",
       "      <th></th>\n",
       "      <th></th>\n",
       "      <th></th>\n",
       "      <th></th>\n",
       "      <th></th>\n",
       "      <th></th>\n",
       "      <th></th>\n",
       "      <th></th>\n",
       "      <th></th>\n",
       "      <th></th>\n",
       "      <th></th>\n",
       "      <th></th>\n",
       "      <th></th>\n",
       "      <th></th>\n",
       "    </tr>\n",
       "  </thead>\n",
       "  <tbody>\n",
       "    <tr>\n",
       "      <th>0</th>\n",
       "      <td>2008-09-30</td>\n",
       "      <td>0</td>\n",
       "      <td>07288500-d-07288280</td>\n",
       "      <td>07288500_ss</td>\n",
       "      <td>816717.0</td>\n",
       "      <td>0.0</td>\n",
       "      <td>07288280_ss</td>\n",
       "      <td>274565.500000</td>\n",
       "      <td>0.0</td>\n",
       "      <td>542151.500000</td>\n",
       "      <td>0.0</td>\n",
       "      <td>flux_sdiff</td>\n",
       "      <td>07288500-d-07288280_ss</td>\n",
       "      <td>542151.500000</td>\n",
       "      <td>0.0</td>\n",
       "      <td>spatial flux difference</td>\n",
       "    </tr>\n",
       "    <tr>\n",
       "      <th>3</th>\n",
       "      <td>2008-03-31</td>\n",
       "      <td>3</td>\n",
       "      <td>07288500-d-07288280</td>\n",
       "      <td>07288500_200803</td>\n",
       "      <td>425160.0</td>\n",
       "      <td>0.0</td>\n",
       "      <td>07288280_200803</td>\n",
       "      <td>255581.650000</td>\n",
       "      <td>0.0</td>\n",
       "      <td>169578.350000</td>\n",
       "      <td>0.0</td>\n",
       "      <td>flux_sdiff</td>\n",
       "      <td>07288500-d-07288280_200803</td>\n",
       "      <td>169578.350000</td>\n",
       "      <td>0.0</td>\n",
       "      <td>spatial flux difference</td>\n",
       "    </tr>\n",
       "    <tr>\n",
       "      <th>4</th>\n",
       "      <td>2008-09-30</td>\n",
       "      <td>4</td>\n",
       "      <td>07288500-d-07288280</td>\n",
       "      <td>07288500_200809</td>\n",
       "      <td>816717.0</td>\n",
       "      <td>0.0</td>\n",
       "      <td>07288280_200809</td>\n",
       "      <td>274565.500000</td>\n",
       "      <td>0.0</td>\n",
       "      <td>542151.500000</td>\n",
       "      <td>0.0</td>\n",
       "      <td>flux_sdiff</td>\n",
       "      <td>07288500-d-07288280_200809</td>\n",
       "      <td>542151.500000</td>\n",
       "      <td>0.0</td>\n",
       "      <td>spatial flux difference</td>\n",
       "    </tr>\n",
       "    <tr>\n",
       "      <th>5</th>\n",
       "      <td>2009-03-31</td>\n",
       "      <td>5</td>\n",
       "      <td>07288500-d-07288280</td>\n",
       "      <td>07288500_200903</td>\n",
       "      <td>468096.5</td>\n",
       "      <td>0.0</td>\n",
       "      <td>07288280_200903</td>\n",
       "      <td>280535.333333</td>\n",
       "      <td>0.0</td>\n",
       "      <td>187561.166667</td>\n",
       "      <td>0.0</td>\n",
       "      <td>flux_sdiff</td>\n",
       "      <td>07288500-d-07288280_200903</td>\n",
       "      <td>187561.166667</td>\n",
       "      <td>0.0</td>\n",
       "      <td>spatial flux difference</td>\n",
       "    </tr>\n",
       "    <tr>\n",
       "      <th>6</th>\n",
       "      <td>2009-09-30</td>\n",
       "      <td>6</td>\n",
       "      <td>07288500-d-07288280</td>\n",
       "      <td>07288500_200909</td>\n",
       "      <td>976710.5</td>\n",
       "      <td>0.0</td>\n",
       "      <td>07288280_200909</td>\n",
       "      <td>570437.333333</td>\n",
       "      <td>0.0</td>\n",
       "      <td>406273.166667</td>\n",
       "      <td>0.0</td>\n",
       "      <td>flux_sdiff</td>\n",
       "      <td>07288500-d-07288280_200909</td>\n",
       "      <td>406273.166667</td>\n",
       "      <td>0.0</td>\n",
       "      <td>spatial flux difference</td>\n",
       "    </tr>\n",
       "  </tbody>\n",
       "</table>\n",
       "</div>"
      ],
      "text/plain": [
       "      datetime  per            obsprefix          obsnme1  obs_flux1  \\\n",
       "per                                                                    \n",
       "0   2008-09-30    0  07288500-d-07288280      07288500_ss   816717.0   \n",
       "3   2008-03-31    3  07288500-d-07288280  07288500_200803   425160.0   \n",
       "4   2008-09-30    4  07288500-d-07288280  07288500_200809   816717.0   \n",
       "5   2009-03-31    5  07288500-d-07288280  07288500_200903   468096.5   \n",
       "6   2009-09-30    6  07288500-d-07288280  07288500_200909   976710.5   \n",
       "\n",
       "     sim_flux1          obsnme2      obs_flux2  sim_flux2       obs_diff  \\\n",
       "per                                                                        \n",
       "0          0.0      07288280_ss  274565.500000        0.0  542151.500000   \n",
       "3          0.0  07288280_200803  255581.650000        0.0  169578.350000   \n",
       "4          0.0  07288280_200809  274565.500000        0.0  542151.500000   \n",
       "5          0.0  07288280_200903  280535.333333        0.0  187561.166667   \n",
       "6          0.0  07288280_200909  570437.333333        0.0  406273.166667   \n",
       "\n",
       "     sim_diff      obgnme                      obsnme         obsval  \\\n",
       "per                                                                    \n",
       "0         0.0  flux_sdiff      07288500-d-07288280_ss  542151.500000   \n",
       "3         0.0  flux_sdiff  07288500-d-07288280_200803  169578.350000   \n",
       "4         0.0  flux_sdiff  07288500-d-07288280_200809  542151.500000   \n",
       "5         0.0  flux_sdiff  07288500-d-07288280_200903  187561.166667   \n",
       "6         0.0  flux_sdiff  07288500-d-07288280_200909  406273.166667   \n",
       "\n",
       "     sim_obsval                     type  \n",
       "per                                       \n",
       "0           0.0  spatial flux difference  \n",
       "3           0.0  spatial flux difference  \n",
       "4           0.0  spatial flux difference  \n",
       "5           0.0  spatial flux difference  \n",
       "6           0.0  spatial flux difference  "
      ]
     },
     "execution_count": 1,
     "metadata": {},
     "output_type": "execute_result"
    }
   ],
   "source": [
    "flux_sdiff.head()"
   ]
  },
  {
   "cell_type": "code",
   "execution_count": 32,
   "metadata": {
    "execution": {
     "iopub.execute_input": "2021-07-08T19:16:41.703529Z",
     "iopub.status.busy": "2021-07-08T19:16:41.703067Z",
     "iopub.status.idle": "2021-07-08T19:16:41.864003Z",
     "shell.execute_reply": "2021-07-08T19:16:41.864451Z"
    }
   },
   "outputs": [
    {
     "data": {
      "text/plain": [
       "Text(0, 0.5, 'Gain in streamflow, $m^3/d$')"
      ]
     },
     "execution_count": 1,
     "metadata": {},
     "output_type": "execute_result"
    },
    {
     "data": {
      "image/png": "[encoded data removed]",
      "text/plain": [
       "<Figure size 432x288 with 1 Axes>"
      ]
     },
     "metadata": {
      "needs_background": "light"
     },
     "output_type": "display_data"
    }
   ],
   "source": [
    "flux_sdiff.index = flux_sdiff.datetime\n",
    "ax = flux_sdiff[['obs_diff', 'sim_diff']].plot()\n",
    "ax.set_ylabel('Gain in streamflow, $m^3/d$')"
   ]
  },
  {
   "cell_type": "code",
   "execution_count": null,
   "metadata": {},
   "outputs": [],
   "source": []
  }
 ],
 "metadata": {
  "kernelspec": {
   "display_name": "Python 3",
   "language": "python",
   "name": "python3"
  },
  "language_info": {
   "codemirror_mode": {
    "name": "ipython",
    "version": 3
   },
   "file_extension": ".py",
   "mimetype": "text/x-python",
   "name": "python",
   "nbconvert_exporter": "python",
   "pygments_lexer": "ipython3",
   "version": "3.8.6"
  }
 },
 "nbformat": 4,
 "nbformat_minor": 4
}
